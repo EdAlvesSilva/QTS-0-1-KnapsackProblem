{
 "cells": [
  {
   "cell_type": "code",
   "execution_count": 19,
   "metadata": {
    "collapsed": false
   },
   "outputs": [],
   "source": [
    "import time\n",
    "import numpy as np\n",
    "import math as math\n",
    "from itertools import compress\n",
    "from functools import reduce\n",
    "from random import randint\n",
    "from math import pi,sqrt,cos,sin"
   ]
  },
  {
   "cell_type": "code",
   "execution_count": 30,
   "metadata": {
    "collapsed": false
   },
   "outputs": [
    {
     "name": "stdout",
     "output_type": "stream",
     "text": [
      "[7 3 8 8 1 6 5 1 1 4 4 1 2 9 8 7 7 4 3 9 8 4 8 5 9 7 4 6 6 1 1 7 1 9 9 5 1\n",
      " 1 4 3 5 4 1 3 1 8 4 7 1 9 4 7 3 9 9 8 2 1 9 5 3 5 8 6 8 7 5 8 1 6 6 3 9 4\n",
      " 3 1 3 9 7 6 4 1 5 8 4 8 8 3 8 6 9 3 2 7 6 6 9 5 9 2 7 2 9 3 8 9 9 7 9 3 3\n",
      " 3 8 8 7 2 4 9 9 2 9 4 3 3 7 5 5 2 6 6 4 9 6 7 2 4 8 1 6 3 2 1 2 5 7 2 1 4\n",
      " 6 8 6 9 5 6 3 5 5 4 3 6 5 3 4 9 6 3 7 7 6 6 2 1 8 6 8 8 9 7 6 6 7 4 3 5 8\n",
      " 8 5 2 3 1 4 5 6 7 2 4 6 7 6 4 1 5 7 6 1 8 2 4 3 1 5 4 8 5 2 9 5 4 7 5 4 3\n",
      " 9 3 4 2 4 6 7 8 9 3 9 7 5 9 1 2 8 2 9 1 9 4 2 3 7 5 5 9]\n"
     ]
    }
   ],
   "source": [
    "N = 10 #Tamanho da vizinhanca\n",
    "NumeroItens = 250\n",
    "MaxWeight = 10.0\n",
    "MinWeight = 1.0\n",
    "\n",
    "#Gerar array de itens possiveis\n",
    "#Pesos reais\n",
    "#itens = np.random.uniform(low=MinWeight,high = MaxWeight, size=(NumeroItens,))\n",
    "\n",
    "#Pesos inteiros\n",
    "itens = np.random.randint(low=MinWeight,high = MaxWeight, size=(NumeroItens,))\n",
    "print(itens)\n",
    "\n",
    "#Capacidade maxima da mochila\n",
    "C = reduce(lambda x,y : x+y, itens)/2\n",
    "#Vetor de ganho de cada item. O indice do item corresponde ao respectivo ganho\n",
    "profits = np.vectorize(lambda x: x + 5)(itens)\n",
    "\n",
    "#print(\"Espaço de itens: \",itens)\n",
    "#print(\"Ganho dos itens\", profits)\n",
    "#print(\"Capacidade da mochila: \", C)"
   ]
  },
  {
   "cell_type": "code",
   "execution_count": 21,
   "metadata": {
    "collapsed": false
   },
   "outputs": [],
   "source": [
    "#As funcoes de calculo do objetivo e do peso sao iguais.\n",
    "#Foram criadas duas por questao de facilidade de leitura dos passos executados\n",
    "\n",
    "#Calculo Funcao Objetivo\n",
    "def ObjFun(profits, solution):\n",
    "    return reduce(lambda x,y: x+y, compress(profits, solution),0)\n",
    "\n",
    "#Calculo peso de uma solucao\n",
    "def CalcularPeso(itens,solucao):\n",
    "    return reduce(lambda x,y: x+y, compress(itens, solucao),0)\n",
    "\n",
    "#Realiza medicoes consecutivas nos qbits de forma a gerar uma solucao classica\n",
    "def Medir(qindividuos):\n",
    "    return np.vectorize(lambda x,y : 1 if (x > np.power(y,2)) else 0)\\\n",
    "                        (np.random.rand(NumeroItens), qindividuos[:,1])\n",
    "\n",
    "#Aplica N medicoes nos q-bits para gerar as solucoes classicas\n",
    "def GerarVizinhos(qindividuos, N):\n",
    "    vizinhos = [np.array(Medir(qindividuos)) for i in range(N)]\n",
    "    return vizinhos\n",
    "\n",
    "#Realiza os ajustes necessários para manter as solucoes geradas dentro das restricoes de carga da mochila\n",
    "def AjustarVizinhos(vizinhos,C):\n",
    "    novosVizinhos = [np.array(AjustarSolucao(vizinho,C)) for vizinho in vizinhos]\n",
    "    return novosVizinhos\n",
    "\n",
    "#Realiza o reparo de uma solucao de forma a respeitar as restrições do problema\n",
    "#O método utilizado é de reparo guloso Lamarckiano, i.e. remoçao consecutiva de\n",
    "#itens da mochila até a satisfação das restrições\n",
    "def AjustarSolucao(solucao,C):\n",
    "    itensSelected = solucao.nonzero()[0]\n",
    "    Peso = CalcularPeso(itens, solucao)\n",
    "    while (Peso > C):\n",
    "        r = np.random.randint(0,itensSelected.shape[0]-1)\n",
    "        j = itensSelected[r]\n",
    "        solucao[j] = 0\n",
    "        Peso = Peso - itens[j]\n",
    "        itensSelected = np.delete(itensSelected, r)\n",
    "    return solucao\n",
    "\n",
    "#Verifica se alguma solucao da iteração é melhor que o bestFitness até o momento\n",
    "def NewBestFit(melhorSol, bestFit):\n",
    "    if (ObjFun(profits,melhorSol) > ObjFun(profits,bestFit)):\n",
    "        return melhorSol\n",
    "    return bestFit\n",
    "\n",
    "#Acha a melhor e a pior solucão dentro das solucoes geradas pela medição da vizinhança\n",
    "def FindBestWorst(vizinhos):\n",
    "    tmp = [np.array(ObjFun(profits,vizinho)) for vizinho in vizinhos]\n",
    "    return (vizinhos[np.argmax(tmp)],vizinhos[np.argmin(tmp)])\n",
    "\n",
    "#Atualiza a população de q-bits. A lista tabu é considerada dentro da função, durante o loop de aplicação das rotações.\n",
    "#A aplicação da porta quânica em um q-bit k qualquer é proibido de ser aplicado(tabu) caso ambos os bit k da melhor e pior\n",
    "#solução da iteração sejam, concomitantemente, 0 ou 1(Função xnor = 1 então é tabu).\n",
    "def AtualizarQ(piorSol, melhorSol, qindividuos):\n",
    "    theta = 0.01*pi\n",
    "    \n",
    "    for i in range(NumeroItens):\n",
    "        if (melhorSol[i] ^ piorSol[i]): #True: Movimento não tabu\n",
    "            modSinal = melhorSol[i] - piorSol[i]\n",
    "            #Verifica se qk está no primeiro/terceiro quadrante ou segundo/quarto e modifica o sinal de theta de acordo\n",
    "            if (qindividuos[i,0]*qindividuos[i,1] < 0) : modSinal *= -1\n",
    "                \n",
    "            Ugate = np.array([[cos(modSinal*theta), -sin(modSinal*theta)],\n",
    "                              [sin(modSinal*theta),  cos(modSinal*theta)]])  #Matriz de rotação                \n",
    "            #Rotação do individuo i\n",
    "            qindividuos[i,:] = np.dot(Ugate,qindividuos[i,:])\n",
    "    return qindividuos"
   ]
  },
  {
   "cell_type": "code",
   "execution_count": 22,
   "metadata": {
    "collapsed": false,
    "scrolled": true
   },
   "outputs": [
    {
     "name": "stdout",
     "output_type": "stream",
     "text": [
      "Limite da mochila:  683.597999608\n",
      "Nro de iteracoes:  1000\n",
      "Numero de itens:  250\n",
      "Peso Inicial:(Sem Reparo) 701.963618481\n",
      "Peso Inicial:(Com Reparo) 676.26010394\n",
      "Ganho Inicial:(Com Reparo) 1311.26010394\n",
      "Tempo :  7.761589527130127\n",
      "Ganho Melhor Solucao Encontrada:  1533.56822664\n",
      "Peso Melhor Solucao Encontrada:  683.56822664\n"
     ]
    }
   ],
   "source": [
    "qindividuos = np.zeros((NumeroItens,2))\n",
    "qindividuos.fill(1/sqrt(2))\n",
    "solucao = Medir(qindividuos)\n",
    "\n",
    "bestFit = solucao\n",
    "\n",
    "i = 0\n",
    "NumIter = 1000\n",
    "\n",
    "print(\"Limite da mochila: \", C)\n",
    "print(\"Nro de iteracoes: \", NumIter)\n",
    "print(\"Numero de itens: \", NumeroItens)\n",
    "print(\"Peso Inicial:(Sem Reparo)\", CalcularPeso(itens,bestFit))\n",
    "\n",
    "bestFit = AjustarSolucao(bestFit,C)\n",
    "\n",
    "print(\"Peso Inicial:(Com Reparo)\", CalcularPeso(itens,bestFit))\n",
    "print(\"Ganho Inicial:(Com Reparo)\", CalcularPeso(profits,bestFit))\n",
    "\n",
    "start_time = time.time()\n",
    "\n",
    "while (i < NumIter):\n",
    "    i = i + 1 \n",
    "    vizinhos = GerarVizinhos(qindividuos, N) \n",
    "    vizinhos = AjustarVizinhos(vizinhos, C)\n",
    "    (melhorSolucao,piorSolucao) = FindBestWorst(vizinhos)\n",
    "    bestFit = NewBestFit(melhorSolucao,bestFit)\n",
    "    qindividuos = AtualizarQ(melhorSolucao, piorSolucao, qindividuos)\n",
    "    \n",
    "print(\"Tempo : \", (time.time() - start_time))\n",
    "print(\"Ganho Melhor Solucao Encontrada: \", ObjFun(profits,bestFit))\n",
    "print(\"Peso Melhor Solucao Encontrada: \", CalcularPeso(itens,bestFit))"
   ]
  },
  {
   "cell_type": "code",
   "execution_count": 28,
   "metadata": {
    "collapsed": false
   },
   "outputs": [
    {
     "name": "stdout",
     "output_type": "stream",
     "text": [
      "[[ 0.  0.  0. ...,  0.  0.  0.]\n",
      " [ 0.  0.  0. ...,  0.  0.  0.]\n",
      " [ 0.  0.  0. ...,  0.  0.  0.]\n",
      " ..., \n",
      " [ 0.  0.  0. ...,  0.  0.  0.]\n",
      " [ 0.  0.  0. ...,  0.  0.  0.]\n",
      " [ 0.  0.  0. ...,  0.  0.  0.]]\n"
     ]
    },
    {
     "name": "stderr",
     "output_type": "stream",
     "text": [
      "C:\\Users\\Pedro\\Anaconda3\\lib\\site-packages\\ipykernel\\__main__.py:11: VisibleDeprecationWarning: using a non-integer number instead of an integer will result in an error in the future\n"
     ]
    },
    {
     "name": "stdout",
     "output_type": "stream",
     "text": [
      "1406.82280405\n"
     ]
    }
   ],
   "source": [
    "m = np.empty([NumeroItens,int(C+1)])\n",
    "print(m)\n",
    "for j in range(int(C)):\n",
    "    m[0, j] = 0\n",
    "\n",
    "for i in range(1,NumeroItens):\n",
    "    for j in range(int(C+1)):\n",
    "        if (itens[i] > j):\n",
    "            m[i, j] = m[i-1, j]\n",
    "        else:\n",
    "            m[i, j] = max(m[i-1, j], m[i-1, j-itens[i]] + profits[i])\n",
    "                \n",
    "print(m[NumeroItens-1,int(C)])"
   ]
  },
  {
   "cell_type": "code",
   "execution_count": null,
   "metadata": {
    "collapsed": false
   },
   "outputs": [],
   "source": []
  },
  {
   "cell_type": "code",
   "execution_count": null,
   "metadata": {
    "collapsed": false
   },
   "outputs": [],
   "source": []
  },
  {
   "cell_type": "code",
   "execution_count": null,
   "metadata": {
    "collapsed": true
   },
   "outputs": [],
   "source": []
  }
 ],
 "metadata": {
  "kernelspec": {
   "display_name": "Python 3",
   "language": "python",
   "name": "python3"
  },
  "language_info": {
   "codemirror_mode": {
    "name": "ipython",
    "version": 3
   },
   "file_extension": ".py",
   "mimetype": "text/x-python",
   "name": "python",
   "nbconvert_exporter": "python",
   "pygments_lexer": "ipython3",
   "version": "3.6.0"
  }
 },
 "nbformat": 4,
 "nbformat_minor": 2
}
