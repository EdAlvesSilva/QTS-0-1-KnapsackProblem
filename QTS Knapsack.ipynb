{
 "cells": [
  {
   "cell_type": "code",
   "execution_count": 1,
   "metadata": {
    "collapsed": false
   },
   "outputs": [],
   "source": [
    "import time\n",
    "import numpy as np\n",
    "import math as math\n",
    "from itertools import compress\n",
    "from functools import reduce\n",
    "from random import randint\n",
    "from math import pi,sqrt,cos,sin"
   ]
  },
  {
   "cell_type": "code",
   "execution_count": 2,
   "metadata": {
    "collapsed": false
   },
   "outputs": [],
   "source": [
    "N = 10 #Tamanho da vizinhanca\n",
    "NumeroItens = 250\n",
    "MaxWeight = 10.0\n",
    "MinWeight = 1.0\n",
    "\n",
    "#Gerar array de itens possiveis\n",
    "#itens = np.random.uniform(low=MinWeight,high = MaxWeight, size=(NumeroItens,))\n",
    "itens = np.random.randint(low=MinWeight,high = MaxWeight, size=(NumeroItens,))\n",
    "\n",
    "#Capacidade maxima da mochila\n",
    "C = reduce(lambda x,y : x+y, itens)/2\n",
    "#Vetor de ganho de cada item. O indice do item corresponde ao respectivo ganho\n",
    "profits = np.vectorize(lambda x: x + 5)(itens)\n",
    "\n",
    "#print(\"Espaço de itens: \",itens)\n",
    "#print(\"Ganho dos itens\", profits)\n",
    "#print(\"Capacidade da mochila: \", C)"
   ]
  },
  {
   "cell_type": "code",
   "execution_count": 3,
   "metadata": {
    "collapsed": false
   },
   "outputs": [],
   "source": [
    "#As funcoes de calculo do objetivo e do peso sao iguais.\n",
    "#Foram criadas duas por questao de facilidade de leitura dos passos executados\n",
    "\n",
    "#Calculo Funcao Objetivo\n",
    "def ObjFun(profits, solution):\n",
    "    return reduce(lambda x,y: x+y, compress(profits, solution),0)\n",
    "\n",
    "#Calculo peso de uma solucao\n",
    "def CalcularPeso(itens,solucao):\n",
    "    return reduce(lambda x,y: x+y, compress(itens, solucao),0)\n",
    "\n",
    "#Realiza medicoes consecutivas nos qbits de forma a gerar uma solucao classica\n",
    "def Medir(qindividuos):\n",
    "    return np.vectorize(lambda x,y : 1 if (x > np.power(y,2)) else 0)\\\n",
    "                        (np.random.rand(NumeroItens), qindividuos[:,1])\n",
    "\n",
    "#Aplica N medicoes nos q-bits para gerar as solucoes classicas\n",
    "def GerarVizinhos(qindividuos, N):\n",
    "    vizinhos = [np.array(Medir(qindividuos)) for i in range(N)]\n",
    "    return vizinhos\n",
    "\n",
    "#Realiza os ajustes necessários para manter as solucoes geradas dentro das restricoes de carga da mochila\n",
    "def AjustarVizinhos(vizinhos,C):\n",
    "    novosVizinhos = [np.array(AjustarSolucao(vizinho,C)) for vizinho in vizinhos]\n",
    "    return novosVizinhos\n",
    "\n",
    "#Realiza o reparo de uma solucao de forma a respeitar as restrições do problema\n",
    "#O método utilizado é de reparo guloso Lamarckiano, i.e. remoçao consecutiva de\n",
    "#itens da mochila até a satisfação das restrições\n",
    "def AjustarSolucao(solucao,C):\n",
    "    itensSelected = solucao.nonzero()[0]\n",
    "    Peso = CalcularPeso(itens, solucao)\n",
    "    while (Peso > C):\n",
    "        r = np.random.randint(0,itensSelected.shape[0]-1)\n",
    "        j = itensSelected[r]\n",
    "        solucao[j] = 0\n",
    "        Peso = Peso - itens[j]\n",
    "        itensSelected = np.delete(itensSelected, r)\n",
    "    return solucao\n",
    "\n",
    "#Verifica se alguma solucao da iteração é melhor que o bestFitness até o momento\n",
    "def NewBestFit(melhorSol, bestFit):\n",
    "    if (ObjFun(profits,melhorSol) > ObjFun(profits,bestFit)):\n",
    "        return melhorSol\n",
    "    return bestFit\n",
    "\n",
    "#Acha a melhor e a pior solucão dentro das solucoes geradas pela medição da vizinhança\n",
    "def FindBestWorst(vizinhos):\n",
    "    tmp = [np.array(ObjFun(profits,vizinho)) for vizinho in vizinhos]\n",
    "    return (vizinhos[np.argmax(tmp)],vizinhos[np.argmin(tmp)])\n",
    "\n",
    "#Atualiza a população de q-bits. A lista tabu é considerada dentro da função, durante o loop de aplicação das rotações.\n",
    "#A aplicação da porta quânica em um q-bit k qualquer é proibido de ser aplicado(tabu) caso ambos os bit k da melhor e pior\n",
    "#solução da iteração sejam, concomitantemente, 0 ou 1(Função xnor = 1 então é tabu).\n",
    "def AtualizarQ(piorSol, melhorSol, qindividuos):\n",
    "    theta = 0.01*pi\n",
    "    \n",
    "    for i in range(NumeroItens):\n",
    "        if (melhorSol[i] ^ piorSol[i]): #True: Movimento não tabu\n",
    "            modSinal = melhorSol[i] - piorSol[i]\n",
    "            #Verifica se qk está no primeiro/terceiro quadrante ou segundo/quarto e modifica o sinal de theta de acordo\n",
    "            if (qindividuos[i,0]*qindividuos[i,1] < 0) : modSinal *= -1\n",
    "                \n",
    "            Ugate = np.array([[cos(modSinal*theta), -sin(modSinal*theta)],\n",
    "                              [sin(modSinal*theta),  cos(modSinal*theta)]])  #Matriz de rotação                \n",
    "            #Rotação do individuo i\n",
    "            qindividuos[i,:] = np.dot(Ugate,qindividuos[i,:])\n",
    "    return qindividuos"
   ]
  },
  {
   "cell_type": "code",
   "execution_count": 17,
   "metadata": {
    "collapsed": false,
    "scrolled": true
   },
   "outputs": [
    {
     "name": "stdout",
     "output_type": "stream",
     "text": [
      "Limite da mochila:  630.0\n",
      "Nro de iteracoes:  1000\n",
      "Numero de itens:  250\n",
      "Peso Inicial:(Sem Reparo) 634\n",
      "Peso Inicial:(Com Reparo) 625\n",
      "Ganho Inicial:(Com Reparo) 1250\n",
      "Tempo :  7.640002012252808\n",
      "Ganho Melhor Solucao Encontrada:  1485\n",
      "Peso Melhor Solucao Encontrada:  630\n"
     ]
    }
   ],
   "source": [
    "qindividuos = np.zeros((NumeroItens,2))\n",
    "qindividuos.fill(1/sqrt(2))\n",
    "solucao = Medir(qindividuos)\n",
    "\n",
    "bestFit = solucao\n",
    "\n",
    "i = 0\n",
    "NumIter = 1000\n",
    "\n",
    "print(\"Limite da mochila: \", C)\n",
    "print(\"Nro de iteracoes: \", NumIter)\n",
    "print(\"Numero de itens: \", NumeroItens)\n",
    "print(\"Peso Inicial:(Sem Reparo)\", CalcularPeso(itens,bestFit))\n",
    "\n",
    "bestFit = AjustarSolucao(bestFit,C)\n",
    "\n",
    "print(\"Peso Inicial:(Com Reparo)\", CalcularPeso(itens,bestFit))\n",
    "print(\"Ganho Inicial:(Com Reparo)\", CalcularPeso(profits,bestFit))\n",
    "\n",
    "start_time = time.time()\n",
    "\n",
    "while (i < NumIter):\n",
    "    i = i + 1 \n",
    "    vizinhos = GerarVizinhos(qindividuos, N) \n",
    "    vizinhos = AjustarVizinhos(vizinhos, C)\n",
    "    (melhorSolucao,piorSolucao) = FindBestWorst(vizinhos)\n",
    "    bestFit = NewBestFit(melhorSolucao,bestFit)\n",
    "    qindividuos = AtualizarQ(melhorSolucao, piorSolucao, qindividuos)\n",
    "    \n",
    "print(\"Tempo : \", (time.time() - start_time))\n",
    "print(\"Ganho Melhor Solucao Encontrada: \", ObjFun(profits,bestFit))\n",
    "print(\"Peso Melhor Solucao Encontrada: \", CalcularPeso(itens,bestFit))"
   ]
  },
  {
   "cell_type": "code",
   "execution_count": 5,
   "metadata": {
    "collapsed": false
   },
   "outputs": [
    {
     "name": "stdout",
     "output_type": "stream",
     "text": [
      "[[ 0.  0.  0. ...,  0.  0.  0.]\n",
      " [ 0.  0.  0. ...,  0.  0.  0.]\n",
      " [ 0.  0.  0. ...,  0.  0.  0.]\n",
      " ..., \n",
      " [ 0.  0.  0. ...,  0.  0.  0.]\n",
      " [ 0.  0.  0. ...,  0.  0.  0.]\n",
      " [ 0.  0.  0. ...,  0.  0.  0.]]\n",
      "1485.0\n"
     ]
    }
   ],
   "source": [
    "m = np.empty([NumeroItens,int(C+1)])\n",
    "print(m)\n",
    "for j in range(int(C)):\n",
    "    m[0, j] = 0\n",
    "\n",
    "for i in range(1,NumeroItens):\n",
    "    for j in range(int(C+1)):\n",
    "        if (itens[i] > j):\n",
    "            m[i, j] = m[i-1, j]\n",
    "        else:\n",
    "            m[i, j] = max(m[i-1, j], m[i-1, j-itens[i]] + profits[i])\n",
    "                \n",
    "print(m[NumeroItens-1,int(C)])"
   ]
  },
  {
   "cell_type": "code",
   "execution_count": null,
   "metadata": {
    "collapsed": false
   },
   "outputs": [],
   "source": []
  },
  {
   "cell_type": "code",
   "execution_count": null,
   "metadata": {
    "collapsed": false
   },
   "outputs": [],
   "source": []
  },
  {
   "cell_type": "code",
   "execution_count": null,
   "metadata": {
    "collapsed": true
   },
   "outputs": [],
   "source": []
  }
 ],
 "metadata": {
  "kernelspec": {
   "display_name": "Python 3",
   "language": "python",
   "name": "python3"
  },
  "language_info": {
   "codemirror_mode": {
    "name": "ipython",
    "version": 3
   },
   "file_extension": ".py",
   "mimetype": "text/x-python",
   "name": "python",
   "nbconvert_exporter": "python",
   "pygments_lexer": "ipython3",
   "version": "3.6.0"
  }
 },
 "nbformat": 4,
 "nbformat_minor": 2
}
